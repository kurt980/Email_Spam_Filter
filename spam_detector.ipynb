{
 "cells": [
  {
   "cell_type": "code",
   "execution_count": 1,
   "id": "786d7ac3",
   "metadata": {},
   "outputs": [],
   "source": [
    "# Code Cell 5\n",
    "# Author: http://lazyprogrammer.me\n",
    "from __future__ import print_function, division\n",
    "from future.utils import iteritems\n",
    "from builtins import range\n",
    "# Note: you may need to update your version of future\n",
    "# sudo pip install -U future\n",
    "\n",
    "import numpy as np\n",
    "import pandas as pd\n",
    "import matplotlib.pyplot as plt\n",
    "from sklearn.feature_extraction.text import TfidfVectorizer, CountVectorizer\n",
    "from sklearn.model_selection import train_test_split\n",
    "from sklearn.naive_bayes import MultinomialNB\n",
    "from sklearn.svm import SVC\n",
    "from wordcloud import WordCloud"
   ]
  },
  {
   "cell_type": "code",
   "execution_count": 6,
   "id": "ebe50a57",
   "metadata": {},
   "outputs": [],
   "source": [
    "# Data Processing\n",
    "# data from:\n",
    "# https://www.kaggle.com/uciml/sms-spam-collection-dataset\n",
    "# file contains some invalid chars\n",
    "# depending on which version of pandas you have\n",
    "# an error may be thrown\n",
    "\n",
    "df = pd.read_csv('spam.csv', encoding='ISO-8859-1')\n",
    "\n",
    "# drop unnecessary columns\n",
    "df = df.drop([\"Unnamed: 2\", \"Unnamed: 3\", \"Unnamed: 4\"], axis=1)\n",
    "\n",
    "# rename columns to something better\n",
    "df.columns = ['labels', 'data']"
   ]
  },
  {
   "cell_type": "code",
   "execution_count": 7,
   "id": "8e4a160c",
   "metadata": {},
   "outputs": [],
   "source": [
    "# create binary labels\n",
    "# Using map()\n",
    "df['b_labels'] = df['labels'].map({'ham': 0, 'spam': 1})\n",
    "Y = df['b_labels'].values\n",
    "\n",
    "# split up the data\n",
    "df_train, df_test, Ytrain, Ytest = train_test_split(df['data'], Y, test_size=0.33)"
   ]
  },
  {
   "cell_type": "code",
   "execution_count": 8,
   "id": "d07c490c",
   "metadata": {},
   "outputs": [],
   "source": [
    "# Code Cell 8\n",
    "# try multiple ways of calculating features\n",
    "tfidf = TfidfVectorizer(decode_error='ignore')\n",
    "Xtrain = tfidf.fit_transform(df_train)\n",
    "Xtest = tfidf.transform(df_test)"
   ]
  },
  {
   "cell_type": "code",
   "execution_count": 9,
   "id": "fa0f76e7",
   "metadata": {
    "scrolled": true
   },
   "outputs": [
    {
     "name": "stdout",
     "output_type": "stream",
     "text": [
      "train score: 0.9699973211893919\n",
      "test score: 0.958673191952148\n"
     ]
    }
   ],
   "source": [
    "# Code Cell 9\n",
    "# create the model, train it, print scores\n",
    "model = MultinomialNB()\n",
    "model.fit(Xtrain, Ytrain)\n",
    "print(\"train score:\", model.score(Xtrain, Ytrain))\n",
    "print(\"test score:\", model.score(Xtest, Ytest))\n",
    "# exit()"
   ]
  },
  {
   "cell_type": "code",
   "execution_count": 14,
   "id": "aa4bd044",
   "metadata": {},
   "outputs": [],
   "source": [
    "# Process data\n",
    "emails_test = pd.read_csv('emails_cleaned.csv')"
   ]
  },
  {
   "cell_type": "code",
   "execution_count": 16,
   "id": "ee9b4b20",
   "metadata": {},
   "outputs": [],
   "source": [
    "emails_test = emails_test.dropna(subset=['Body'])"
   ]
  },
  {
   "cell_type": "code",
   "execution_count": 17,
   "id": "a1846aef",
   "metadata": {},
   "outputs": [],
   "source": [
    "X = tfidf.transform(emails_test['Body'])\n",
    "emails_test['predictions'] = model.predict(X)"
   ]
  },
  {
   "cell_type": "code",
   "execution_count": 19,
   "id": "b616a019",
   "metadata": {},
   "outputs": [
    {
     "data": {
      "text/html": [
       "<div>\n",
       "<style scoped>\n",
       "    .dataframe tbody tr th:only-of-type {\n",
       "        vertical-align: middle;\n",
       "    }\n",
       "\n",
       "    .dataframe tbody tr th {\n",
       "        vertical-align: top;\n",
       "    }\n",
       "\n",
       "    .dataframe thead th {\n",
       "        text-align: right;\n",
       "    }\n",
       "</style>\n",
       "<table border=\"1\" class=\"dataframe\">\n",
       "  <thead>\n",
       "    <tr style=\"text-align: right;\">\n",
       "      <th></th>\n",
       "      <th>Subject</th>\n",
       "      <th>From</th>\n",
       "      <th>To</th>\n",
       "      <th>Date</th>\n",
       "      <th>Body</th>\n",
       "      <th>predictions</th>\n",
       "    </tr>\n",
       "  </thead>\n",
       "  <tbody>\n",
       "    <tr>\n",
       "      <th>34</th>\n",
       "      <td>New Senior Data Analyst opportunity</td>\n",
       "      <td>Jobot Alerts &lt;jobs@alerts.jobot.com&gt;</td>\n",
       "      <td>Chengyan Ji &lt;kurtji9803@gmail.com&gt;</td>\n",
       "      <td>Mon, 13 Mar 2023 15:19:47 +0000 (UTC)</td>\n",
       "      <td>Apply Now, Mike and Austin are hiring for Seni...</td>\n",
       "      <td>1</td>\n",
       "    </tr>\n",
       "    <tr>\n",
       "      <th>131</th>\n",
       "      <td>Keep Going With More Jobs Like Senior Data Ana...</td>\n",
       "      <td>Jobot Alerts &lt;jobs@alerts.jobot.com&gt;</td>\n",
       "      <td>Chengyan Ji &lt;kurtji9803@gmail.com&gt;</td>\n",
       "      <td>Fri, 10 Mar 2023 18:24:25 +0000 (UTC)</td>\n",
       "      <td>Apply Now, Mike and Brian are hiring for Senio...</td>\n",
       "      <td>1</td>\n",
       "    </tr>\n",
       "    <tr>\n",
       "      <th>181</th>\n",
       "      <td>Senior Data Analyst openings are available</td>\n",
       "      <td>Jobot Alerts &lt;jobs@alerts.jobot.com&gt;</td>\n",
       "      <td>Chengyan Ji &lt;kurtji9803@gmail.com&gt;</td>\n",
       "      <td>Thu, 09 Mar 2023 16:52:07 +0000 (UTC)</td>\n",
       "      <td>Apply Now, Mike and Austin are hiring for Seni...</td>\n",
       "      <td>1</td>\n",
       "    </tr>\n",
       "    <tr>\n",
       "      <th>228</th>\n",
       "      <td>Senior Data Analyst opportunities need to be f...</td>\n",
       "      <td>Jobot Alerts &lt;jobs@alerts.jobot.com&gt;</td>\n",
       "      <td>Chengyan Ji &lt;kurtji9803@gmail.com&gt;</td>\n",
       "      <td>Wed, 08 Mar 2023 14:15:08 +0000 (UTC)</td>\n",
       "      <td>Apply Now, Mike and Austin are hiring for Seni...</td>\n",
       "      <td>1</td>\n",
       "    </tr>\n",
       "  </tbody>\n",
       "</table>\n",
       "</div>"
      ],
      "text/plain": [
       "                                               Subject  \\\n",
       "34                 New Senior Data Analyst opportunity   \n",
       "131  Keep Going With More Jobs Like Senior Data Ana...   \n",
       "181         Senior Data Analyst openings are available   \n",
       "228  Senior Data Analyst opportunities need to be f...   \n",
       "\n",
       "                                     From                                  To  \\\n",
       "34   Jobot Alerts <jobs@alerts.jobot.com>  Chengyan Ji <kurtji9803@gmail.com>   \n",
       "131  Jobot Alerts <jobs@alerts.jobot.com>  Chengyan Ji <kurtji9803@gmail.com>   \n",
       "181  Jobot Alerts <jobs@alerts.jobot.com>  Chengyan Ji <kurtji9803@gmail.com>   \n",
       "228  Jobot Alerts <jobs@alerts.jobot.com>  Chengyan Ji <kurtji9803@gmail.com>   \n",
       "\n",
       "                                      Date  \\\n",
       "34   Mon, 13 Mar 2023 15:19:47 +0000 (UTC)   \n",
       "131  Fri, 10 Mar 2023 18:24:25 +0000 (UTC)   \n",
       "181  Thu, 09 Mar 2023 16:52:07 +0000 (UTC)   \n",
       "228  Wed, 08 Mar 2023 14:15:08 +0000 (UTC)   \n",
       "\n",
       "                                                  Body  predictions  \n",
       "34   Apply Now, Mike and Austin are hiring for Seni...            1  \n",
       "131  Apply Now, Mike and Brian are hiring for Senio...            1  \n",
       "181  Apply Now, Mike and Austin are hiring for Seni...            1  \n",
       "228  Apply Now, Mike and Austin are hiring for Seni...            1  "
      ]
     },
     "execution_count": 19,
     "metadata": {},
     "output_type": "execute_result"
    }
   ],
   "source": [
    "emails_test[emails_test['predictions'] == 1]"
   ]
  },
  {
   "cell_type": "code",
   "execution_count": null,
   "id": "bc8513f6",
   "metadata": {},
   "outputs": [],
   "source": []
  },
  {
   "cell_type": "code",
   "execution_count": null,
   "id": "68a114ee",
   "metadata": {},
   "outputs": [],
   "source": []
  }
 ],
 "metadata": {
  "kernelspec": {
   "display_name": "Python 3 (ipykernel)",
   "language": "python",
   "name": "python3"
  },
  "language_info": {
   "codemirror_mode": {
    "name": "ipython",
    "version": 3
   },
   "file_extension": ".py",
   "mimetype": "text/x-python",
   "name": "python",
   "nbconvert_exporter": "python",
   "pygments_lexer": "ipython3",
   "version": "3.9.13"
  }
 },
 "nbformat": 4,
 "nbformat_minor": 5
}
