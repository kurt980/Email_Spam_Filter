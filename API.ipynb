{
 "cells": [
  {
   "cell_type": "code",
   "execution_count": 2,
   "id": "d8150357",
   "metadata": {},
   "outputs": [
    {
     "name": "stdout",
     "output_type": "stream",
     "text": [
      "APPENDED  250 EMAILS\n",
      "emails in json format written to emails_cleaned.txt\n",
      "APPENDED  250 EMAILS\n",
      "emails in csv format written to emails_cleaned.csv\n"
     ]
    }
   ],
   "source": [
    "from email_reader import EmailReader\n",
    "from email_processor import EmailProcessor"
   ]
  },
  {
   "cell_type": "code",
   "execution_count": null,
   "id": "5fcab98e",
   "metadata": {},
   "outputs": [],
   "source": [
    "# reads emails and writes to local file\n",
    "emailreader = EmailReader()\n",
    "emailreader.search()\n",
    "emailreader.writetotxt('emails.txt')"
   ]
  },
  {
   "cell_type": "code",
   "execution_count": null,
   "id": "5f620fc2",
   "metadata": {},
   "outputs": [],
   "source": [
    "# processes email files and write to local for analysis\n",
    "emailprocessor = EmailProcessor()\n",
    "emailprocessor.write_json()\n",
    "emailprocessor.write_csv()"
   ]
  },
  {
   "cell_type": "code",
   "execution_count": null,
   "id": "151c3e59",
   "metadata": {},
   "outputs": [],
   "source": []
  },
  {
   "cell_type": "code",
   "execution_count": null,
   "id": "74ddce4c",
   "metadata": {},
   "outputs": [],
   "source": []
  }
 ],
 "metadata": {
  "kernelspec": {
   "display_name": "Python 3 (ipykernel)",
   "language": "python",
   "name": "python3"
  },
  "language_info": {
   "codemirror_mode": {
    "name": "ipython",
    "version": 3
   },
   "file_extension": ".py",
   "mimetype": "text/x-python",
   "name": "python",
   "nbconvert_exporter": "python",
   "pygments_lexer": "ipython3",
   "version": "3.9.13"
  }
 },
 "nbformat": 4,
 "nbformat_minor": 5
}
